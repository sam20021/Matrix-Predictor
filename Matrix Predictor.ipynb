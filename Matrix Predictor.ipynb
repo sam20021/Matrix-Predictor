{
 "cells": [
  {
   "cell_type": "code",
   "execution_count": 7,
   "id": "3bd6b179",
   "metadata": {},
   "outputs": [],
   "source": [
    "import numpy as np\n",
    "import pandas as pd\n",
    "import math\n",
    "import torch\n",
    "import torch.nn as nn\n",
    "import torch.optim as optim\n",
    "\n",
    "import matplotlib.pyplot as plt\n",
    "%matplotlib inline"
   ]
  },
  {
   "cell_type": "code",
   "execution_count": 15,
   "id": "4f9d01a8",
   "metadata": {},
   "outputs": [
    {
     "name": "stdout",
     "output_type": "stream",
     "text": [
      "12\n",
      "(3, 4)\n"
     ]
    }
   ],
   "source": [
    "a = np.array([[1,2,3,4],[4,5,6,7],[8,9,10,12]])\n",
    "print(a.size)\n",
    "print(a.shape)\n",
    "output_size = (12)\n",
    "b = a.size"
   ]
  },
  {
   "cell_type": "code",
   "execution_count": 17,
   "id": "9791bda7",
   "metadata": {},
   "outputs": [],
   "source": [
    "class MatrixPredictor(nn.Module):\n",
    "    def __init__(self,b,output_size):\n",
    "        super(MatrixPredictor,self).__init__()\n",
    "        self.fc1 = nn.Linear(b,3)\n",
    "        self.relu = nn.ReLU()\n",
    "        self.fc2 = nn.Linear(3,output_size)\n",
    "    \n",
    "    def forward(self,x):\n",
    "        x = self.fc1(x)\n",
    "        x = self.relu(x)\n",
    "        x = self.fc2(x)\n",
    "        return x.view(x.size(0),12)"
   ]
  },
  {
   "cell_type": "code",
   "execution_count": 19,
   "id": "01d0dbca",
   "metadata": {},
   "outputs": [
    {
     "name": "stdout",
     "output_type": "stream",
     "text": [
      "MatrixPredictor(\n",
      "  (fc1): Linear(in_features=12, out_features=3, bias=True)\n",
      "  (relu): ReLU()\n",
      "  (fc2): Linear(in_features=3, out_features=12, bias=True)\n",
      ")\n"
     ]
    }
   ],
   "source": [
    "output = MatrixPredictor(b,output_size)\n",
    "print(output)"
   ]
  },
  {
   "cell_type": "code",
   "execution_count": null,
   "id": "151add0d",
   "metadata": {},
   "outputs": [],
   "source": []
  }
 ],
 "metadata": {
  "kernelspec": {
   "display_name": "Python 3 (ipykernel)",
   "language": "python",
   "name": "python3"
  },
  "language_info": {
   "codemirror_mode": {
    "name": "ipython",
    "version": 3
   },
   "file_extension": ".py",
   "mimetype": "text/x-python",
   "name": "python",
   "nbconvert_exporter": "python",
   "pygments_lexer": "ipython3",
   "version": "3.11.4"
  }
 },
 "nbformat": 4,
 "nbformat_minor": 5
}
